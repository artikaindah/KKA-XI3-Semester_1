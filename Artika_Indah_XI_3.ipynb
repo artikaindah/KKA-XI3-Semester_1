{
  "cells": [
    {
      "cell_type": "markdown",
      "metadata": {
        "id": "view-in-github",
        "colab_type": "text"
      },
      "source": [
        "<a href=\"https://colab.research.google.com/github/artikaindah/KKA-XI3-Semester_1/blob/main/Artika_Indah_XI_3.ipynb\" target=\"_parent\"><img src=\"https://colab.research.google.com/assets/colab-badge.svg\" alt=\"Open In Colab\"/></a>"
      ]
    },
    {
      "cell_type": "code",
      "execution_count": null,
      "metadata": {
        "id": "newM7dusUmd2"
      },
      "outputs": [],
      "source": [
        "Nama:Artika Indah Rizqi\n",
        "\n",
        "Kelas : XI-3\n",
        "\n",
        "No. Absen : 01"
      ]
    },
    {
      "cell_type": "markdown",
      "metadata": {
        "id": "EEu9lTK4VnXt"
      },
      "source": []
    },
    {
      "cell_type": "markdown",
      "metadata": {
        "id": "TqUqBHeiWHqL"
      },
      "source": [
        "#Menampilkan String (Teks Bebas)"
      ]
    },
    {
      "cell_type": "code",
      "execution_count": null,
      "metadata": {
        "colab": {
          "base_uri": "https://localhost:8080/"
        },
        "id": "LeyVcJKwWYg0",
        "outputId": "0fbca0a8-39ad-4f98-8383-0dfbe27b05fc"
      },
      "outputs": [
        {
          "name": "stdout",
          "output_type": "stream",
          "text": [
            "Artika Indah Rizqi\n"
          ]
        }
      ],
      "source": [
        "print (\"Artika Indah Rizqi\")"
      ]
    },
    {
      "cell_type": "markdown",
      "metadata": {
        "id": "w4YvQ1X1XW0-"
      },
      "source": [
        "#Menampilkan Nilai Variabel"
      ]
    },
    {
      "cell_type": "code",
      "execution_count": null,
      "metadata": {
        "colab": {
          "base_uri": "https://localhost:8080/"
        },
        "id": "5tLbjfuiXcl0",
        "outputId": "d9081630-254a-49fd-b5ca-5fdd43f584f4"
      },
      "outputs": [
        {
          "name": "stdout",
          "output_type": "stream",
          "text": [
            "Artika Indah Rizqi\n",
            "16\n",
            "150\n"
          ]
        }
      ],
      "source": [
        "Nama = \"Artika Indah Rizqi\"\n",
        "Usia = 16\n",
        "Tinggi_badan =150\n",
        "\n",
        "print(Nama)\n",
        "print(Usia)\n",
        "print(Tinggi_badan)"
      ]
    },
    {
      "cell_type": "markdown",
      "metadata": {
        "id": "lwvqKjOlWWHm"
      },
      "source": [
        "#Menampilkan String dan Nilai Variabel"
      ]
    },
    {
      "cell_type": "code",
      "execution_count": null,
      "metadata": {
        "colab": {
          "base_uri": "https://localhost:8080/"
        },
        "id": "F1T5jRTNWxIA",
        "outputId": "8f26bb03-3325-4949-87aa-d73536ce0045"
      },
      "outputs": [
        {
          "name": "stdout",
          "output_type": "stream",
          "text": [
            "Halo nama saya Artika Indah Rizqi , Tinggi badan saya adalah 150 cm,\n"
          ]
        }
      ],
      "source": [
        "print(\"Halo nama saya\", Nama, \", Tinggi badan saya adalah\", Tinggi_badan, \"cm,\")"
      ]
    },
    {
      "cell_type": "code",
      "execution_count": null,
      "metadata": {
        "colab": {
          "base_uri": "https://localhost:8080/"
        },
        "id": "ENjQ1qJVXsXZ",
        "outputId": "b9a14b8f-191a-479c-faae-bdcf9c27a33a"
      },
      "outputs": [
        {
          "name": "stdout",
          "output_type": "stream",
          "text": [
            "Usia saya adalah 16 tahun.\n"
          ]
        }
      ],
      "source": [
        "print(\"Usia saya adalah\", Usia, \"tahun.\")"
      ]
    },
    {
      "cell_type": "code",
      "execution_count": null,
      "metadata": {
        "colab": {
          "base_uri": "https://localhost:8080/"
        },
        "id": "-Qwejh7TaqK-",
        "outputId": "157b1543-2980-40b0-9780-1d9e330e059d"
      },
      "outputs": [
        {
          "name": "stdout",
          "output_type": "stream",
          "text": [
            "Halo nama saya Artika Indah Rizqi.Tinggi badan saya adalah 150 cm. \n"
          ]
        }
      ],
      "source": [
        "print(\"Halo nama saya \"+ Nama+ \".Tinggi badan saya adalah \"+ str(Tinggi_badan) + \" cm. \")"
      ]
    },
    {
      "cell_type": "code",
      "execution_count": null,
      "metadata": {
        "colab": {
          "base_uri": "https://localhost:8080/"
        },
        "id": "I4ILy8z9a9LI",
        "outputId": "287340f0-267d-4ee5-fad8-904f74dda8ee"
      },
      "outputs": [
        {
          "name": "stdout",
          "output_type": "stream",
          "text": [
            "Halo nama saya Artika Indah Rizqi. Tinggi badan saya adalah 150 cm.\n"
          ]
        }
      ],
      "source": [
        "print(f\"Halo nama saya {Nama}. Tinggi badan saya adalah {Tinggi_badan} cm.\")"
      ]
    },
    {
      "cell_type": "markdown",
      "metadata": {
        "id": "3-XgSQp3X6cR"
      },
      "source": [
        "#Parameter Fungsi Print"
      ]
    },
    {
      "cell_type": "code",
      "execution_count": null,
      "metadata": {
        "id": "PIh9Nd2fX-2T"
      },
      "outputs": [],
      "source": [
        "nama_siswa_1 = \"Yafi\"\n",
        "nama_siswa_2 = \"Wahyu\""
      ]
    },
    {
      "cell_type": "code",
      "execution_count": null,
      "metadata": {
        "colab": {
          "base_uri": "https://localhost:8080/"
        },
        "id": "tEExC9l5Y1Zk",
        "outputId": "fc2091b5-ecb4-4e9d-aa49-f8fee6b2927b"
      },
      "outputs": [
        {
          "name": "stdout",
          "output_type": "stream",
          "text": [
            "Yafi&Wahyu\n"
          ]
        }
      ],
      "source": [
        "print(nama_siswa_1, end=\"&\")\n",
        "print(nama_siswa_2)"
      ]
    },
    {
      "cell_type": "code",
      "execution_count": null,
      "metadata": {
        "colab": {
          "background_save": true
        },
        "id": "k4llPaLiZE_g",
        "outputId": "01fa11fe-2220-4dbd-c627-7d20f6aa59f4"
      },
      "outputs": [
        {
          "name": "stdout",
          "output_type": "stream",
          "text": [
            "Yafi/Wahyu\n"
          ]
        }
      ],
      "source": [
        "print(nama_siswa_1, nama_siswa_2, sep="
      ]
    }
  ],
  "metadata": {
    "colab": {
      "provenance": [],
      "authorship_tag": "ABX9TyOUz3av5/wIF/twn3I6oY+w",
      "include_colab_link": true
    },
    "kernelspec": {
      "display_name": "Python 3",
      "name": "python3"
    },
    "language_info": {
      "name": "python"
    }
  },
  "nbformat": 4,
  "nbformat_minor": 0
}